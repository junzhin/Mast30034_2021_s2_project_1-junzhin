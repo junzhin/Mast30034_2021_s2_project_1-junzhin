{
 "cells": [
  {
   "cell_type": "markdown",
   "metadata": {},
   "source": [
    "# 1 Download all necessary libaraies"
   ]
  },
  {
   "cell_type": "code",
   "execution_count": null,
   "metadata": {
    "ExecuteTime": {
     "end_time": "2021-08-08T08:51:23.007493Z",
     "start_time": "2021-08-08T08:51:22.989503Z"
    }
   },
   "outputs": [],
   "source": [
    "from os.path import getsize\n",
    "from urllib.request import urlretrieve\n",
    "import pandas as pd"
   ]
  },
  {
   "cell_type": "markdown",
   "metadata": {},
   "source": [
    "# Remember to change the file path if you run in a different machine"
   ]
  },
  {
   "cell_type": "markdown",
   "metadata": {},
   "source": [
    "# 1. 1 Main dataset for analysis and training"
   ]
  },
  {
   "cell_type": "code",
   "execution_count": null,
   "metadata": {
    "ExecuteTime": {
     "end_time": "2021-08-08T08:54:58.954619Z",
     "start_time": "2021-08-08T08:54:56.476Z"
    }
   },
   "outputs": [],
   "source": [
    "output_dir = r\"F:\\Ads_projects\\project1\\mast30034_2021_s2_project_1-junzhin\\raw_data\\2019\\yellow_taxi_2019\"\n",
    "fname_template = \"yellow_tripdata_2019\"\n",
    "\n",
    "for m in range(1, 13):\n",
    "    month = str(m).zfill(2)\n",
    "    out = f'{fname_template}-{month}.csv'\n",
    "    url = f\"https://s3.amazonaws.com/nyc-tlc/trip+data/{out}\"\n",
    "    urlretrieve(url, f\"{output_dir}/{out}\")\n",
    "\n",
    "    print(f\"Done downloading {out} to {output_dir} \\\n",
    "    with size {getsize(f'{output_dir}/{out}') / 1073741824:.2f}GB\")"
   ]
  },
  {
   "cell_type": "markdown",
   "metadata": {},
   "source": [
    "# 1.2 transform into feather files "
   ]
  },
  {
   "cell_type": "code",
   "execution_count": null,
   "metadata": {
    "ExecuteTime": {
     "end_time": "2021-08-08T08:53:49.740985Z",
     "start_time": "2021-08-08T08:53:28.185581Z"
    }
   },
   "outputs": [],
   "source": [
    "for i in range(1,13):\n",
    "    zero_fill  = str(i).zfill(2)\n",
    "    input_dir  = r\"F:\\Ads_projects\\project1\\mast30034_2021_s2_project_1-junzhin\\raw_data\\2019\\yellow_taxi_2019\"\n",
    "    output_dir = r\"F:\\Ads_projects\\project1\\mast30034_2021_s2_project_1-junzhin\\data\\2019\\yellow_taxi_2019\"\n",
    "    file_root_dir = f'\\yellow_tripdata_2019-'\n",
    "    inputfilename = file_root_dir + zero_fill + '.csv'\n",
    "    input_data = input_dir + inputfilename\n",
    "    df = pd.read_csv(input_data)\n",
    "    \n",
    "    \n",
    "    outfilename = file_root_dir + zero_fill + '.feather'\n",
    "    output_data = output_dir + outfilename\n",
    "    df.reset_index().to_feather(output_data)\n",
    "    del df\n",
    "    "
   ]
  },
  {
   "cell_type": "markdown",
   "metadata": {
    "ExecuteTime": {
     "end_time": "2021-08-08T08:18:59.737342Z",
     "start_time": "2021-08-08T08:18:50.272Z"
    }
   },
   "source": [
    "#  2.1 Additional datasets for model testing and comaprsion purpose"
   ]
  },
  {
   "cell_type": "code",
   "execution_count": null,
   "metadata": {
    "ExecuteTime": {
     "end_time": "2021-08-08T08:56:29.026738Z",
     "start_time": "2021-08-08T08:56:24.605174Z"
    },
    "scrolled": true
   },
   "outputs": [],
   "source": [
    "output_dir = r\"F:\\Ads_projects\\project1\\mast30034_2021_s2_project_1-junzhin\\raw_data\\2020\\yellow_taxi_2020\"\n",
    "fname_template = \"yellow_tripdata_2020\"\n",
    "\n",
    "for m in range(1, 13):\n",
    "    month = str(m).zfill(2)\n",
    "    out = f'{fname_template}-{month}.csv'\n",
    "    url = f\"https://s3.amazonaws.com/nyc-tlc/trip+data/{out}\"\n",
    "    urlretrieve(url, f\"{output_dir}/{out}\")\n",
    "\n",
    "    print(f\"Done downloading {out} to {output_dir} \\\n",
    "    with size {getsize(f'{output_dir}/{out}') / 1073741824:.2f}GB\")"
   ]
  },
  {
   "cell_type": "markdown",
   "metadata": {},
   "source": [
    "# 2.2 transform into feather files "
   ]
  },
  {
   "cell_type": "code",
   "execution_count": null,
   "metadata": {
    "ExecuteTime": {
     "end_time": "2021-08-08T08:57:34.944774Z",
     "start_time": "2021-08-08T08:57:16.854204Z"
    }
   },
   "outputs": [],
   "source": [
    "for i in range(1,2):\n",
    "    zero_fill  = str(i).zfill(2)\n",
    "    input_dir  = r\"F:\\Ads_projects\\project1\\mast30034_2021_s2_project_1-junzhin\\raw_data\\2020\\yellow_taxi_2020\"\n",
    "    output_dir = r\"F:\\Ads_projects\\project1\\mast30034_2021_s2_project_1-junzhin\\data\\2020\\yellow_taxi_2020\"\n",
    "    file_root_dir = f'\\yellow_tripdata_2020-'\n",
    "    inputfilename = file_root_dir + zero_fill + '.csv'\n",
    "    input_data = input_dir + inputfilename\n",
    "    df = pd.read_csv(input_data)\n",
    "    \n",
    "    \n",
    "    outfilename = file_root_dir + zero_fill + '.feather'\n",
    "    output_data = output_dir + outfilename\n",
    "    df.reset_index().to_feather(output_data)\n",
    "    del df\n",
    "    "
   ]
  }
 ],
 "metadata": {
  "celltoolbar": "Raw Cell Format",
  "interpreter": {
   "hash": "916dbcbb3f70747c44a77c7bcd40155683ae19c65e1c03b4aa3499c5328201f1"
  },
  "kernelspec": {
   "display_name": "Python 3",
   "language": "python",
   "name": "python3"
  },
  "language_info": {
   "codemirror_mode": {
    "name": "ipython",
    "version": 3
   },
   "file_extension": ".py",
   "mimetype": "text/x-python",
   "name": "python",
   "nbconvert_exporter": "python",
   "pygments_lexer": "ipython3",
   "version": "3.8.8"
  }
 },
 "nbformat": 4,
 "nbformat_minor": 2
}
