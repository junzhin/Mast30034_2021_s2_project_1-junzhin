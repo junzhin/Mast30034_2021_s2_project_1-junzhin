{
 "cells": [
  {
   "cell_type": "markdown",
   "id": "c5aba9b3",
   "metadata": {},
   "source": [
    "# Visualisation Experiment\n"
   ]
  },
  {
   "cell_type": "code",
   "execution_count": 2,
   "id": "81ffc75b",
   "metadata": {},
   "outputs": [
    {
     "ename": "ModuleNotFoundError",
     "evalue": "No module named 'geopandas'",
     "output_type": "error",
     "traceback": [
      "\u001b[1;31m---------------------------------------------------------------------------\u001b[0m",
      "\u001b[1;31mModuleNotFoundError\u001b[0m                       Traceback (most recent call last)",
      "\u001b[1;32m<ipython-input-2-08ef33802533>\u001b[0m in \u001b[0;36m<module>\u001b[1;34m\u001b[0m\n\u001b[0;32m      1\u001b[0m \u001b[1;32mfrom\u001b[0m \u001b[0mshapely\u001b[0m\u001b[1;33m.\u001b[0m\u001b[0mgeometry\u001b[0m \u001b[1;32mimport\u001b[0m \u001b[0mPoint\u001b[0m\u001b[1;33m\u001b[0m\u001b[1;33m\u001b[0m\u001b[0m\n\u001b[0;32m      2\u001b[0m \u001b[1;32mfrom\u001b[0m \u001b[0mshapely\u001b[0m\u001b[1;33m.\u001b[0m\u001b[0mgeometry\u001b[0m\u001b[1;33m.\u001b[0m\u001b[0mpolygon\u001b[0m \u001b[1;32mimport\u001b[0m \u001b[0mPolygon\u001b[0m\u001b[1;33m\u001b[0m\u001b[1;33m\u001b[0m\u001b[0m\n\u001b[1;32m----> 3\u001b[1;33m \u001b[1;32mimport\u001b[0m \u001b[0mgeopandas\u001b[0m \u001b[1;32mas\u001b[0m \u001b[0mgpd\u001b[0m\u001b[1;33m\u001b[0m\u001b[1;33m\u001b[0m\u001b[0m\n\u001b[0m\u001b[0;32m      4\u001b[0m \u001b[1;32mimport\u001b[0m \u001b[0mfolium\u001b[0m\u001b[1;33m\u001b[0m\u001b[1;33m\u001b[0m\u001b[0m\n",
      "\u001b[1;31mModuleNotFoundError\u001b[0m: No module named 'geopandas'"
     ]
    }
   ],
   "source": [
    "from shapely.geometry import Point\n",
    "from shapely.geometry.polygon import Polygon\n",
    "import geopandas as gpd\n",
    "import folium"
   ]
  },
  {
   "cell_type": "code",
   "execution_count": null,
   "id": "67c06823",
   "metadata": {},
   "outputs": [],
   "source": [
    "\n",
    "\n",
    "point = Point(0.5, 0.5)\n",
    "polygon = Polygon([(0, 0), (0, 1), (1, 1), (1, 0)])\n",
    "print(polygon.contains(point))\n",
    "police_map_df = pd.read_csv('F:\\Ads_projects\\project1\\mast30034_2021_s2_project_1-junzhin\\data\\nypp_geo.csv')\n",
    "taxi_map_df = pd.read_csv('F:\\Ads_projects\\project1\\mast30034_2021_s2_project_1-junzhin\\data\\nypp_geo.csv')\n",
    "police_map_df.head(5)\n",
    "taxi_map_df.head(5)"
   ]
  },
  {
   "cell_type": "code",
   "execution_count": null,
   "id": "8fe30f63",
   "metadata": {},
   "outputs": [],
   "source": [
    "police_map_gpd = gpd.GeoDataFrame(police_map_df)\n",
    "taxi_map_gpd = gpd.GeoDataFrame(taxi_map_df)\n",
    "taxi_map_gpd.sample(2)\n",
    "police_map_gpd.sample(2)\n",
    "\n",
    "taxi_map_gpd = gpd.read_file('/mnt/f/Ads_projects/project1/mast30034_2021_s2_project_1-junzhin/data/NYC Taxi Zones.geojson').to_json()\n",
    "police_map_gpd = gpd.read_file('/mnt/f/Ads_projects/project1/mast30034_2021_s2_project_1-junzhin/data/Police Precincts.geojson').to_json()"
   ]
  },
  {
   "cell_type": "code",
   "execution_count": null,
   "id": "00d122a1",
   "metadata": {},
   "outputs": [],
   "source": [
    "\n",
    "m = folium.Map(location=[40.66, -73.94], tiles=\"Stamen Terrain\", zoom_start=10)\n",
    "m.add_child(folium.Choropleth(geo_data=\"/mnt/f/Ads_projects/project1/mast30034_2021_s2_project_1-junzhin/data/NYC Taxi Zones.geojson\", name='choropleth'))\n",
    "m"
   ]
  },
  {
   "cell_type": "code",
   "execution_count": null,
   "id": "295523d5",
   "metadata": {},
   "outputs": [],
   "source": [
    "m2 = folium.Map(location=[40.66, -73.94], tiles=\"Stamen Terrain\", zoom_start=10)\n",
    "m2.add_child(folium.Choropleth(geo_data=\"/mnt/f/Ads_projects/project1/mast30034_2021_s2_project_1-junzhin/data/Police Precincts.geojson\", name='choropleth'))\n",
    "m2"
   ]
  },
  {
   "cell_type": "code",
   "execution_count": null,
   "id": "ff396e4e",
   "metadata": {},
   "outputs": [],
   "source": [
    "folium.Choropleth(\n",
    "    geo_data=\"/mnt/f/Ads_projects/project1/mast30034_2021_s2_project_1-junzhin/data/Police Precincts.geojson\",\n",
    "    name=\"choropleth\",\n",
    "    data=police_map_gpd,\n",
    "    columns=[\"State\", \"Unemployment\"],\n",
    "    key_on=\"feature.id\",\n",
    "    fill_color=\"YlGn\",\n",
    "    fill_opacity=0.7,\n",
    "    line_opacity=.1,\n",
    "    legend_name=\"Unemployment Rate (%)\",\n",
    ").add_to(m2)\n",
    "m2"
   ]
  },
  {
   "cell_type": "code",
   "execution_count": null,
   "id": "84c9aaa7",
   "metadata": {},
   "outputs": [],
   "source": []
  },
  {
   "cell_type": "code",
   "execution_count": null,
   "id": "6de173fe",
   "metadata": {},
   "outputs": [],
   "source": []
  }
 ],
 "metadata": {
  "kernelspec": {
   "display_name": "Python 3",
   "language": "python",
   "name": "python3"
  },
  "language_info": {
   "codemirror_mode": {
    "name": "ipython",
    "version": 3
   },
   "file_extension": ".py",
   "mimetype": "text/x-python",
   "name": "python",
   "nbconvert_exporter": "python",
   "pygments_lexer": "ipython3",
   "version": "3.8.8"
  }
 },
 "nbformat": 4,
 "nbformat_minor": 5
}
